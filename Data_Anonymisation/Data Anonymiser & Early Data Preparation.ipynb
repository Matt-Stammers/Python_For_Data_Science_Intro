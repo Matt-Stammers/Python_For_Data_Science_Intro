{
 "cells": [
  {
   "cell_type": "markdown",
   "metadata": {
    "collapsed": true
   },
   "source": [
    "# Data Anonymiser & Early Data Preparation"
   ]
  },
  {
   "cell_type": "code",
   "execution_count": 10,
   "metadata": {
    "collapsed": true
   },
   "outputs": [],
   "source": [
    "import pandas as pd"
   ]
  },
  {
   "cell_type": "code",
   "execution_count": 11,
   "metadata": {
    "collapsed": false
   },
   "outputs": [],
   "source": [
    "df = pd.read_excel('E:/Colonoscopy/Colon_Data.xls', header = [6], ParseDates = True) # This is one way to import excel files. There are up to 20 different arguments you can specify in the argument"
   ]
  },
  {
   "cell_type": "code",
   "execution_count": 12,
   "metadata": {
    "collapsed": false
   },
   "outputs": [
    {
     "data": {
      "text/plain": [
       "(27296, 15)"
      ]
     },
     "execution_count": 12,
     "metadata": {},
     "output_type": "execute_result"
    }
   ],
   "source": [
    "df.shape # a lot of data"
   ]
  },
  {
   "cell_type": "code",
   "execution_count": 13,
   "metadata": {
    "collapsed": false
   },
   "outputs": [
    {
     "name": "stdout",
     "output_type": "stream",
     "text": [
      "<class 'pandas.core.frame.DataFrame'>\n",
      "RangeIndex: 27296 entries, 0 to 27295\n",
      "Data columns (total 15 columns):\n",
      "Hospital Number                 27296 non-null object\n",
      "NHS Number                      27198 non-null object\n",
      "Patient Name                    27296 non-null object\n",
      "Date of Birth                   27296 non-null datetime64[ns]\n",
      "Procedure                       27296 non-null object\n",
      "Endoscopist                     27296 non-null object\n",
      "Procedure Date                  27296 non-null datetime64[ns]\n",
      "Age                             27296 non-null int64\n",
      "Indications                     27296 non-null object\n",
      "Findings                        27296 non-null object\n",
      "Therapies                       27296 non-null object\n",
      "Immediate Complications         27296 non-null object\n",
      "Post Procedure Complications    1 non-null object\n",
      "Hospital                        27296 non-null object\n",
      "Priority                        27296 non-null object\n",
      "dtypes: datetime64[ns](2), int64(1), object(12)\n",
      "memory usage: 3.1+ MB\n"
     ]
    }
   ],
   "source": [
    "df.info() # mostly pandas objects and some datetimes."
   ]
  },
  {
   "cell_type": "code",
   "execution_count": 14,
   "metadata": {
    "collapsed": false
   },
   "outputs": [],
   "source": [
    "df = df.drop_duplicates() # I know there are some duplicates in here so let's drop them, as you would in excel if you weren't sure"
   ]
  },
  {
   "cell_type": "code",
   "execution_count": 15,
   "metadata": {
    "collapsed": false
   },
   "outputs": [
    {
     "data": {
      "text/plain": [
       "(23837, 15)"
      ]
     },
     "execution_count": 15,
     "metadata": {},
     "output_type": "execute_result"
    }
   ],
   "source": [
    "df.shape # This now shows us that the dataframe is 23837 rows by 15 columns"
   ]
  },
  {
   "cell_type": "code",
   "execution_count": 16,
   "metadata": {
    "collapsed": true
   },
   "outputs": [],
   "source": [
    "list_labels = ['Hospital Number', 'NHS Number', 'Patient Name', 'Date of Birth', 'Procedure', 'Endoscopist', 'Procedure Date', 'Age', \n",
    "       'Indications', 'Findings', 'Therapies', 'Immediate Complications', 'Post Procedure Complications' , 'Hospital', 'Priority'] "
   ]
  },
  {
   "cell_type": "code",
   "execution_count": 17,
   "metadata": {
    "collapsed": false
   },
   "outputs": [],
   "source": [
    "df.columns = list_labels # This is how to assign the 'keys' to the columns - Note you don't have to do this. I'm just showing you how to do it in case the labels are wrong"
   ]
  },
  {
   "cell_type": "markdown",
   "metadata": {},
   "source": [
    "# Extracting key data and anonymising records using Regex"
   ]
  },
  {
   "cell_type": "markdown",
   "metadata": {},
   "source": [
    "What is a Regex I hear you say... Regex's are your best friend - say I wanted to extract all NHS numbers matching a pattern:"
   ]
  },
  {
   "cell_type": "code",
   "execution_count": 18,
   "metadata": {
    "collapsed": true
   },
   "outputs": [],
   "source": [
    "import re"
   ]
  },
  {
   "cell_type": "code",
   "execution_count": 19,
   "metadata": {
    "collapsed": true
   },
   "outputs": [],
   "source": [
    "NHS = re.compile('\\d{3}-\\d{3}-\\d{4}')"
   ]
  },
  {
   "cell_type": "markdown",
   "metadata": {},
   "source": [
    "I can use this to 'test' whether a number is an NHS number like so:"
   ]
  },
  {
   "cell_type": "code",
   "execution_count": 20,
   "metadata": {
    "collapsed": false
   },
   "outputs": [
    {
     "name": "stdout",
     "output_type": "stream",
     "text": [
      "True\n"
     ]
    }
   ],
   "source": [
    "NHS_result = NHS.match('365-062-6578')\n",
    "print(bool(NHS_result))"
   ]
  },
  {
   "cell_type": "markdown",
   "metadata": {},
   "source": [
    "The same can easily be done in this dataset to work out in this case who are your Mr's and by default who are your Mrs/Miss/Ms"
   ]
  },
  {
   "cell_type": "code",
   "execution_count": 21,
   "metadata": {
    "collapsed": true
   },
   "outputs": [],
   "source": [
    "sex_pattern = '^MR\\s'"
   ]
  },
  {
   "cell_type": "code",
   "execution_count": 22,
   "metadata": {
    "collapsed": false
   },
   "outputs": [
    {
     "name": "stdout",
     "output_type": "stream",
     "text": [
      "['MR ']\n"
     ]
    }
   ],
   "source": [
    "matches = re.findall(sex_pattern, 'MR ')\n",
    "print(matches)"
   ]
  },
  {
   "cell_type": "code",
   "execution_count": 23,
   "metadata": {
    "collapsed": true
   },
   "outputs": [],
   "source": [
    "df['Male'] = df['Patient Name'].str.contains(sex_pattern) # This stores the anonymised sex information in another column"
   ]
  },
  {
   "cell_type": "code",
   "execution_count": 24,
   "metadata": {
    "collapsed": false
   },
   "outputs": [
    {
     "data": {
      "text/plain": [
       "11726"
      ]
     },
     "execution_count": 24,
     "metadata": {},
     "output_type": "execute_result"
    }
   ],
   "source": [
    "df.Male.sum()"
   ]
  },
  {
   "cell_type": "markdown",
   "metadata": {},
   "source": [
    "Now we need to drop all the non-anonymised columns. The key principle is reduction of risk of re-indification. If you make it impossible without a key (the original dataset) to re-indentify the patients then you have made the data safe. This should always be a key guiding principle for you"
   ]
  },
  {
   "cell_type": "code",
   "execution_count": 25,
   "metadata": {
    "collapsed": false
   },
   "outputs": [],
   "source": [
    "df['Patient'] = pd.Categorical(df['Patient Name']) # this changes the datatype to categorical data-type"
   ]
  },
  {
   "cell_type": "code",
   "execution_count": 26,
   "metadata": {
    "collapsed": true
   },
   "outputs": [],
   "source": [
    "df['Patient Code'] = df['Patient'].cat.codes # this creates an anonymised column"
   ]
  },
  {
   "cell_type": "code",
   "execution_count": 27,
   "metadata": {
    "collapsed": false
   },
   "outputs": [],
   "source": [
    "df['NHS'] = pd.Categorical(df['NHS Number']) # this will store the values as categorical data-types"
   ]
  },
  {
   "cell_type": "code",
   "execution_count": 28,
   "metadata": {
    "collapsed": false
   },
   "outputs": [],
   "source": [
    "df['NHS code'] = df['NHS'].cat.codes # you can use either [] or .notation"
   ]
  },
  {
   "cell_type": "code",
   "execution_count": 29,
   "metadata": {
    "collapsed": false
   },
   "outputs": [
    {
     "name": "stdout",
     "output_type": "stream",
     "text": [
      "<class 'pandas.core.frame.DataFrame'>\n",
      "Int64Index: 23837 entries, 0 to 27295\n",
      "Data columns (total 20 columns):\n",
      "Hospital Number                 23837 non-null object\n",
      "NHS Number                      23755 non-null object\n",
      "Patient Name                    23837 non-null object\n",
      "Date of Birth                   23837 non-null datetime64[ns]\n",
      "Procedure                       23837 non-null object\n",
      "Endoscopist                     23837 non-null object\n",
      "Procedure Date                  23837 non-null datetime64[ns]\n",
      "Age                             23837 non-null int64\n",
      "Indications                     23837 non-null object\n",
      "Findings                        23837 non-null object\n",
      "Therapies                       23837 non-null object\n",
      "Immediate Complications         23837 non-null object\n",
      "Post Procedure Complications    1 non-null object\n",
      "Hospital                        23837 non-null object\n",
      "Priority                        23837 non-null object\n",
      "Male                            23837 non-null bool\n",
      "Patient                         23837 non-null category\n",
      "Patient Code                    23837 non-null int16\n",
      "NHS                             23755 non-null category\n",
      "NHS code                        23837 non-null int16\n",
      "dtypes: bool(1), category(2), datetime64[ns](2), int16(2), int64(1), object(12)\n",
      "memory usage: 3.4+ MB\n"
     ]
    }
   ],
   "source": [
    "df.info() # ahh its grown to 20 columns"
   ]
  },
  {
   "cell_type": "code",
   "execution_count": 30,
   "metadata": {
    "collapsed": false,
    "scrolled": true
   },
   "outputs": [
    {
     "data": {
      "text/plain": [
       "18489"
      ]
     },
     "execution_count": 30,
     "metadata": {},
     "output_type": "execute_result"
    }
   ],
   "source": [
    "df['Patient'].nunique() # counts the unique values in the column"
   ]
  },
  {
   "cell_type": "code",
   "execution_count": 31,
   "metadata": {
    "collapsed": false
   },
   "outputs": [
    {
     "data": {
      "text/plain": [
       "18489"
      ]
     },
     "execution_count": 31,
     "metadata": {},
     "output_type": "execute_result"
    }
   ],
   "source": [
    "df['Patient Code'].nunique() # See the original non-anonymised string values have been converted to unique ints"
   ]
  },
  {
   "cell_type": "markdown",
   "metadata": {},
   "source": [
    "Now we have created entirely anonymised columns we can drop the patient sensitive data - note: This is not a good idea if you want to perform a merge operation requiring the keys, but we are not going to be doing this today and we want to handle anonymised data only for the purposes of this."
   ]
  },
  {
   "cell_type": "code",
   "execution_count": 32,
   "metadata": {
    "collapsed": true
   },
   "outputs": [],
   "source": [
    "df.drop('Date of Birth', axis=1, inplace=True) # Bye bye hospital numbers"
   ]
  },
  {
   "cell_type": "code",
   "execution_count": 33,
   "metadata": {
    "collapsed": false
   },
   "outputs": [],
   "source": [
    "df.drop('Hospital Number', axis=1, inplace=True) # Bye bye hospital numbers"
   ]
  },
  {
   "cell_type": "code",
   "execution_count": 34,
   "metadata": {
    "collapsed": false
   },
   "outputs": [],
   "source": [
    "df.drop('Endoscopist', axis=1, inplace=True) # Bye bye endoscopists"
   ]
  },
  {
   "cell_type": "code",
   "execution_count": 35,
   "metadata": {
    "collapsed": false
   },
   "outputs": [],
   "source": [
    "df.drop('NHS Number', axis=1, inplace=True) # Bye bye NHS Numbers"
   ]
  },
  {
   "cell_type": "code",
   "execution_count": 36,
   "metadata": {
    "collapsed": false
   },
   "outputs": [],
   "source": [
    "df.drop('NHS', axis=1, inplace=True) # Bye bye NHS Numbers"
   ]
  },
  {
   "cell_type": "code",
   "execution_count": 37,
   "metadata": {
    "collapsed": true
   },
   "outputs": [],
   "source": [
    "df.drop('Hospital', axis=1, inplace=True) # We don't need this column either. If you don't need it drop it"
   ]
  },
  {
   "cell_type": "code",
   "execution_count": 38,
   "metadata": {
    "collapsed": true
   },
   "outputs": [],
   "source": [
    "df.drop('Patient', axis=1, inplace=True) # Finally we need to remove the patient names"
   ]
  },
  {
   "cell_type": "code",
   "execution_count": 39,
   "metadata": {
    "collapsed": true
   },
   "outputs": [],
   "source": [
    "df.drop('Patient Name', axis=1, inplace=True) # Finally we need to remove the patient names"
   ]
  },
  {
   "cell_type": "code",
   "execution_count": 40,
   "metadata": {
    "collapsed": false
   },
   "outputs": [
    {
     "data": {
      "text/html": [
       "<div>\n",
       "<table border=\"1\" class=\"dataframe\">\n",
       "  <thead>\n",
       "    <tr style=\"text-align: right;\">\n",
       "      <th></th>\n",
       "      <th>Procedure</th>\n",
       "      <th>Procedure Date</th>\n",
       "      <th>Age</th>\n",
       "      <th>Indications</th>\n",
       "      <th>Findings</th>\n",
       "      <th>Therapies</th>\n",
       "      <th>Immediate Complications</th>\n",
       "      <th>Post Procedure Complications</th>\n",
       "      <th>Priority</th>\n",
       "      <th>Male</th>\n",
       "      <th>Patient Code</th>\n",
       "      <th>NHS code</th>\n",
       "    </tr>\n",
       "  </thead>\n",
       "  <tbody>\n",
       "    <tr>\n",
       "      <th>0</th>\n",
       "      <td>Colonoscopy</td>\n",
       "      <td>2016-04-12 09:17:00</td>\n",
       "      <td>58</td>\n",
       "      <td>Abdominal mass</td>\n",
       "      <td>(1) Sigmoid colon: Polyp - flat (max_size  5 m...</td>\n",
       "      <td>None recorded</td>\n",
       "      <td>None</td>\n",
       "      <td>NaN</td>\n",
       "      <td>Routine</td>\n",
       "      <td>False</td>\n",
       "      <td>14010</td>\n",
       "      <td>13458</td>\n",
       "    </tr>\n",
       "    <tr>\n",
       "      <th>1</th>\n",
       "      <td>Colonoscopy</td>\n",
       "      <td>2011-01-10 14:41:00</td>\n",
       "      <td>85</td>\n",
       "      <td>Abdominal mass</td>\n",
       "      <td>(1) Sigmoid colon: Stricture - probably malign...</td>\n",
       "      <td>Sigmoid colon: Cold biopsy</td>\n",
       "      <td>None</td>\n",
       "      <td>NaN</td>\n",
       "      <td>Routine</td>\n",
       "      <td>True</td>\n",
       "      <td>4867</td>\n",
       "      <td>2690</td>\n",
       "    </tr>\n",
       "    <tr>\n",
       "      <th>2</th>\n",
       "      <td>Colonoscopy</td>\n",
       "      <td>2012-11-16 10:33:00</td>\n",
       "      <td>50</td>\n",
       "      <td>Abdominal mass</td>\n",
       "      <td>All normal or not visualised</td>\n",
       "      <td>None recorded</td>\n",
       "      <td>None</td>\n",
       "      <td>NaN</td>\n",
       "      <td>Routine</td>\n",
       "      <td>False</td>\n",
       "      <td>11873</td>\n",
       "      <td>14501</td>\n",
       "    </tr>\n",
       "    <tr>\n",
       "      <th>3</th>\n",
       "      <td>Colonoscopy</td>\n",
       "      <td>2015-06-20 10:50:00</td>\n",
       "      <td>46</td>\n",
       "      <td>Abdominal mass</td>\n",
       "      <td>All normal or not visualised</td>\n",
       "      <td>Rectum: Cold biopsy (distance 10cm, specimen r...</td>\n",
       "      <td>None</td>\n",
       "      <td>NaN</td>\n",
       "      <td>Routine</td>\n",
       "      <td>False</td>\n",
       "      <td>10575</td>\n",
       "      <td>6084</td>\n",
       "    </tr>\n",
       "    <tr>\n",
       "      <th>4</th>\n",
       "      <td>Colonoscopy</td>\n",
       "      <td>2014-11-27 16:00:00</td>\n",
       "      <td>50</td>\n",
       "      <td>Abdominal mass</td>\n",
       "      <td>All normal or not visualised</td>\n",
       "      <td>None recorded</td>\n",
       "      <td>None</td>\n",
       "      <td>NaN</td>\n",
       "      <td>Routine</td>\n",
       "      <td>False</td>\n",
       "      <td>14890</td>\n",
       "      <td>13561</td>\n",
       "    </tr>\n",
       "  </tbody>\n",
       "</table>\n",
       "</div>"
      ],
      "text/plain": [
       "     Procedure      Procedure Date  Age     Indications  \\\n",
       "0  Colonoscopy 2016-04-12 09:17:00   58  Abdominal mass   \n",
       "1  Colonoscopy 2011-01-10 14:41:00   85  Abdominal mass   \n",
       "2  Colonoscopy 2012-11-16 10:33:00   50  Abdominal mass   \n",
       "3  Colonoscopy 2015-06-20 10:50:00   46  Abdominal mass   \n",
       "4  Colonoscopy 2014-11-27 16:00:00   50  Abdominal mass   \n",
       "\n",
       "                                            Findings  \\\n",
       "0  (1) Sigmoid colon: Polyp - flat (max_size  5 m...   \n",
       "1  (1) Sigmoid colon: Stricture - probably malign...   \n",
       "2                       All normal or not visualised   \n",
       "3                       All normal or not visualised   \n",
       "4                       All normal or not visualised   \n",
       "\n",
       "                                           Therapies Immediate Complications  \\\n",
       "0                                      None recorded                    None   \n",
       "1                         Sigmoid colon: Cold biopsy                    None   \n",
       "2                                      None recorded                    None   \n",
       "3  Rectum: Cold biopsy (distance 10cm, specimen r...                    None   \n",
       "4                                      None recorded                    None   \n",
       "\n",
       "  Post Procedure Complications Priority   Male  Patient Code  NHS code  \n",
       "0                          NaN  Routine  False         14010     13458  \n",
       "1                          NaN  Routine   True          4867      2690  \n",
       "2                          NaN  Routine  False         11873     14501  \n",
       "3                          NaN  Routine  False         10575      6084  \n",
       "4                          NaN  Routine  False         14890     13561  "
      ]
     },
     "execution_count": 40,
     "metadata": {},
     "output_type": "execute_result"
    }
   ],
   "source": [
    "df.head() # Now we can safely display the top 5 values"
   ]
  },
  {
   "cell_type": "code",
   "execution_count": 41,
   "metadata": {
    "collapsed": false
   },
   "outputs": [
    {
     "name": "stdout",
     "output_type": "stream",
     "text": [
      "<class 'pandas.core.frame.DataFrame'>\n",
      "Int64Index: 23837 entries, 0 to 27295\n",
      "Data columns (total 12 columns):\n",
      "Procedure                       23837 non-null object\n",
      "Procedure Date                  23837 non-null datetime64[ns]\n",
      "Age                             23837 non-null int64\n",
      "Indications                     23837 non-null object\n",
      "Findings                        23837 non-null object\n",
      "Therapies                       23837 non-null object\n",
      "Immediate Complications         23837 non-null object\n",
      "Post Procedure Complications    1 non-null object\n",
      "Priority                        23837 non-null object\n",
      "Male                            23837 non-null bool\n",
      "Patient Code                    23837 non-null int16\n",
      "NHS code                        23837 non-null int16\n",
      "dtypes: bool(1), datetime64[ns](1), int16(2), int64(1), object(7)\n",
      "memory usage: 1.9+ MB\n"
     ]
    }
   ],
   "source": [
    "df.info() # there is still one pesky, almost useless column in there now"
   ]
  },
  {
   "cell_type": "markdown",
   "metadata": {},
   "source": [
    "As you can see we have now got a 12 column dataframe, but Post-Procedure Complications is almost useless so lets drop it"
   ]
  },
  {
   "cell_type": "code",
   "execution_count": 42,
   "metadata": {
    "collapsed": false
   },
   "outputs": [],
   "source": [
    "df.drop('Post Procedure Complications', axis=1, inplace=True) # Finally we need to remove the patient names"
   ]
  },
  {
   "cell_type": "code",
   "execution_count": 43,
   "metadata": {
    "collapsed": false
   },
   "outputs": [
    {
     "name": "stdout",
     "output_type": "stream",
     "text": [
      "<class 'pandas.core.frame.DataFrame'>\n",
      "Int64Index: 23837 entries, 0 to 27295\n",
      "Data columns (total 11 columns):\n",
      "Procedure                  23837 non-null object\n",
      "Procedure Date             23837 non-null datetime64[ns]\n",
      "Age                        23837 non-null int64\n",
      "Indications                23837 non-null object\n",
      "Findings                   23837 non-null object\n",
      "Therapies                  23837 non-null object\n",
      "Immediate Complications    23837 non-null object\n",
      "Priority                   23837 non-null object\n",
      "Male                       23837 non-null bool\n",
      "Patient Code               23837 non-null int16\n",
      "NHS code                   23837 non-null int16\n",
      "dtypes: bool(1), datetime64[ns](1), int16(2), int64(1), object(6)\n",
      "memory usage: 1.8+ MB\n"
     ]
    }
   ],
   "source": [
    "df.info() # We now have a beautifully complete pandas.core.frame.dataframe!! with 11 columns and 23837 rows. "
   ]
  },
  {
   "cell_type": "markdown",
   "metadata": {},
   "source": [
    "Note that it contains different datatypes - objects, datetimes, integers, no floats at the moment"
   ]
  },
  {
   "cell_type": "markdown",
   "metadata": {},
   "source": [
    "# This will drastically reduce the risk of re-indentification in your dataset"
   ]
  },
  {
   "cell_type": "markdown",
   "metadata": {},
   "source": [
    "If you want to take this to the next level go to: https//www.clinicaldevelopers.com now!"
   ]
  }
 ],
 "metadata": {
  "kernelspec": {
   "display_name": "Python 3",
   "language": "python",
   "name": "python3"
  },
  "language_info": {
   "codemirror_mode": {
    "name": "ipython",
    "version": 3
   },
   "file_extension": ".py",
   "mimetype": "text/x-python",
   "name": "python",
   "nbconvert_exporter": "python",
   "pygments_lexer": "ipython3",
   "version": "3.6.0"
  }
 },
 "nbformat": 4,
 "nbformat_minor": 2
}
