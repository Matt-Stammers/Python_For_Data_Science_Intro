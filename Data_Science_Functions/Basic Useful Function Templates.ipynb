{
 "cells": [
  {
   "cell_type": "markdown",
   "metadata": {},
   "source": [
    "https://github.com/varunu28/A-Kata-A-Day # He has solved quite a few of the Kata's"
   ]
  },
  {
   "cell_type": "markdown",
   "metadata": {},
   "source": [
    "https://github.com/PableraShow/Learn-to-program-with-Python-guide/tree/master/05%20-%20Basics%20of%20lists,%20keyboard%20control Here is a good mathetmatical Python programming guide"
   ]
  },
  {
   "cell_type": "markdown",
   "metadata": {},
   "source": [
    "# Fixing a broken while loop"
   ]
  },
  {
   "cell_type": "code",
   "execution_count": null,
   "metadata": {
    "collapsed": true
   },
   "outputs": [],
   "source": [
    "def create_array(n):\n",
    "    res=[]\n",
    "    i=1\n",
    "    while i<=n:\n",
    "        res+=[i]\n",
    "        i+= 1\n",
    "    return res"
   ]
  },
  {
   "cell_type": "code",
   "execution_count": null,
   "metadata": {
    "collapsed": true
   },
   "outputs": [],
   "source": [
    "def create_array(n): #cheating version\n",
    "    return range(1, n+1)"
   ]
  },
  {
   "cell_type": "markdown",
   "metadata": {},
   "source": [
    "# Simple Dictionary"
   ]
  },
  {
   "cell_type": "code",
   "execution_count": null,
   "metadata": {
    "collapsed": true
   },
   "outputs": [],
   "source": [
    "def greet(language):\n",
    "    return {\n",
    "        'czech': 'Vitejte',\n",
    "        'danish': 'Velkomst',\n",
    "        'dutch': 'Welkom',\n",
    "        'english': 'Welcome',\n",
    "        'estonian': 'Tere tulemast',\n",
    "        'finnish': 'Tervetuloa',\n",
    "        'flemish': 'Welgekomen',\n",
    "        'french': 'Bienvenue',\n",
    "        'german': 'Willkommen',\n",
    "        'irish': 'Failte',\n",
    "        'italian': 'Benvenuto',\n",
    "        'latvian': 'Gaidits',\n",
    "        'lithuanian': 'Laukiamas',\n",
    "        'polish': 'Witamy',\n",
    "        'spanish': 'Bienvenido',\n",
    "        'swedish': 'Valkommen',\n",
    "        'welsh': 'Croeso'\n",
    "    }.get(language, 'Welcome')"
   ]
  },
  {
   "cell_type": "code",
   "execution_count": null,
   "metadata": {
    "collapsed": true
   },
   "outputs": [],
   "source": [
    "db = {\n",
    "'english': 'Welcome',\n",
    "'czech': 'Vitejte',\n",
    "'danish': 'Velkomst',\n",
    "'dutch': 'Welkom',\n",
    "'estonian': 'Tere tulemast',\n",
    "'finnish': 'Tervetuloa',\n",
    "'flemish': 'Welgekomen',\n",
    "'french': 'Bienvenue',\n",
    "'german': 'Willkommen',\n",
    "'irish': 'Failte',\n",
    "'italian': 'Benvenuto',\n",
    "'latvian': 'Gaidits',\n",
    "'lithuanian': 'Laukiamas',\n",
    "'polish': 'Witamy',\n",
    "'spanish': 'Bienvenido',\n",
    "'swedish': 'Valkommen',\n",
    "'welsh': 'Croeso'}\n",
    "\n",
    "def greet(language):\n",
    "    return db.get(language, \"Welcome\")"
   ]
  },
  {
   "cell_type": "code",
   "execution_count": null,
   "metadata": {
    "collapsed": true
   },
   "outputs": [],
   "source": [
    "def greet(language):\n",
    "  if language=='english':\n",
    "    return('Welcome')\n",
    "  elif language=='czech':\n",
    "    return('Vitejte')\n",
    "  elif language=='danish':\n",
    "    return('Velkomst')\n",
    "  elif language=='dutch':\n",
    "    return ('Welkom')\n",
    "  elif language=='estonian':\n",
    "    return('Tere tulemast')\n",
    "  elif language=='finnish':\n",
    "    return('Tervetuloa')\n",
    "  elif language=='flemish':\n",
    "    return('Welgekomen')\n",
    "  elif language=='french':\n",
    "    return('Bienvenue')\n",
    "  elif language=='german':\n",
    "    return('Willkommen')\n",
    "  elif language=='irish':\n",
    "    return('Failte')\n",
    "  elif language=='italian':\n",
    "    return('Benvenuto')\n",
    "  elif language=='latvian':\n",
    "    return ('Gaidits')\n",
    "  elif language=='lithuanian':\n",
    "    return ('Laukiamas')\n",
    "  elif language=='polish':\n",
    "    return ('Witamy')\n",
    "  elif language=='spanish':\n",
    "    return('Bienvenido')\n",
    "  elif language=='swedish':\n",
    "    return('Valkommen')\n",
    "  elif language=='welsh':\n",
    "    return('Croeso')\n",
    "  else:\n",
    "    return('Welcome')"
   ]
  },
  {
   "cell_type": "markdown",
   "metadata": {},
   "source": [
    "# Duck Duck Goose"
   ]
  },
  {
   "cell_type": "code",
   "execution_count": null,
   "metadata": {
    "collapsed": true
   },
   "outputs": [],
   "source": [
    "def duck_duck_goose(players, goose): #create an index\n",
    "  idx = (goose-1) % len(players)\n",
    "  return players[idx].name"
   ]
  },
  {
   "cell_type": "code",
   "execution_count": null,
   "metadata": {
    "collapsed": true
   },
   "outputs": [],
   "source": [
    "def duck_duck_goose(players, goose):\n",
    "    return players[(goose % len(players)) - 1].name"
   ]
  },
  {
   "cell_type": "code",
   "execution_count": null,
   "metadata": {
    "collapsed": true
   },
   "outputs": [],
   "source": [
    "def duck_duck_goose(players, goose):\n",
    "    # player is a list, goose is a integer\n",
    "    \n",
    "    while goose > len(players):\n",
    "        goose -= len(players)\n",
    "    goose -= 1\n",
    "    chosen = players[goose]\n",
    "    chosen_name = chosen.name\n",
    "    return(chosen_name)"
   ]
  },
  {
   "cell_type": "markdown",
   "metadata": {},
   "source": [
    "# Find the longest string in an array"
   ]
  },
  {
   "cell_type": "code",
   "execution_count": null,
   "metadata": {
    "collapsed": true
   },
   "outputs": [],
   "source": [
    "def longest_consec(strarr, num):\n",
    "    \"\"\"Find longest consecutive string\n",
    "    Args:\n",
    "        strarr (list): List of strings\n",
    "        num (int): Number of consecutive strings to found\n",
    "    Returns:\n",
    "        str\n",
    "    Examples:\n",
    "        >>> longest_consec(['a', 'bc', 'def'], 2)\n",
    "        'bcdef'\n",
    "    \"\"\"\n",
    "    if not strarr or num < 1 or num > len(strarr):\n",
    "        return ''\n",
    "\n",
    "    longest = 0\n",
    "    longest_i = None\n",
    "\n",
    "    for i in range(len(strarr)):\n",
    "        length = sum(len(item) for item in strarr[i:i + num])\n",
    "        if length > longest:\n",
    "            longest = length\n",
    "            longest_i = i\n",
    "\n",
    "    return ''.join(strarr[longest_i:longest_i + num])"
   ]
  },
  {
   "cell_type": "markdown",
   "metadata": {},
   "source": [
    "https://github.com/varunu28/A-Kata-A-Day # He has solved quite a few of the Kata's"
   ]
  },
  {
   "cell_type": "markdown",
   "metadata": {},
   "source": [
    "# Find the first non-consecutive number in an array"
   ]
  },
  {
   "cell_type": "code",
   "execution_count": null,
   "metadata": {
    "collapsed": true
   },
   "outputs": [],
   "source": [
    "def first_non_consecutive(arr):\n",
    "    if not arr: return 0\n",
    "    for i, x in enumerate(arr[:-1]):\n",
    "        if x + 1 != arr[i + 1]:\n",
    "            return arr[i + 1]"
   ]
  },
  {
   "cell_type": "code",
   "execution_count": null,
   "metadata": {
    "collapsed": true
   },
   "outputs": [],
   "source": [
    "def first_non_consecutive(arr): #or this one!\n",
    "    for i, j in zip(arr, arr[1:]):\n",
    "        if abs(j-i) > 1:\n",
    "            return j\n",
    "    return None"
   ]
  },
  {
   "cell_type": "code",
   "execution_count": null,
   "metadata": {
    "collapsed": true
   },
   "outputs": [],
   "source": [
    "def first_non_consecutive(arr): #as a list expression\n",
    "    return next((j for i, j in zip(arr, arr[1:]) if i + 1 != j), None)"
   ]
  },
  {
   "cell_type": "code",
   "execution_count": null,
   "metadata": {
    "collapsed": true
   },
   "outputs": [],
   "source": [
    "def first_non_consecutive(arr): #or more intuitively\n",
    "    is_consecutive = True\n",
    "    for index, item in enumerate(arr[0:-1]):\n",
    "        if item + 1 == arr[index + 1]:\n",
    "            continue\n",
    "        else:\n",
    "            is_consecutive = False\n",
    "            return arr[index + 1]\n",
    "            break\n",
    "    if is_consecutive == True:\n",
    "            return None"
   ]
  },
  {
   "cell_type": "markdown",
   "metadata": {},
   "source": [
    "# Find the inverse of some numbers in a point array"
   ]
  },
  {
   "cell_type": "code",
   "execution_count": null,
   "metadata": {
    "collapsed": true
   },
   "outputs": [],
   "source": [
    "def symmetric_point(p, q):\n",
    "    return [2*q[0] - p[0], 2*q[1] - p[1]]"
   ]
  },
  {
   "cell_type": "code",
   "execution_count": null,
   "metadata": {
    "collapsed": true
   },
   "outputs": [],
   "source": [
    "def symmetric_point(p, q):\n",
    "    # creates a reflector\n",
    "    p1x = (q[0] - p[0]) + q[0]\n",
    "    p1y = (q[1] - p[1]) + q[1]\n",
    "    return [p1x, p1y]"
   ]
  },
  {
   "cell_type": "markdown",
   "metadata": {},
   "source": [
    "# String Repeat"
   ]
  },
  {
   "cell_type": "code",
   "execution_count": 4,
   "metadata": {
    "collapsed": false
   },
   "outputs": [],
   "source": [
    "repeatStr = 4 * \"I\" "
   ]
  },
  {
   "cell_type": "code",
   "execution_count": 5,
   "metadata": {
    "collapsed": false
   },
   "outputs": [
    {
     "data": {
      "text/plain": [
       "'IIII'"
      ]
     },
     "execution_count": 5,
     "metadata": {},
     "output_type": "execute_result"
    }
   ],
   "source": [
    "repeatStr"
   ]
  },
  {
   "cell_type": "code",
   "execution_count": 6,
   "metadata": {
    "collapsed": true
   },
   "outputs": [],
   "source": [
    "#Repeat String Function\n",
    "def repeat_str(repeat, string):\n",
    "    return string * repeat"
   ]
  },
  {
   "cell_type": "code",
   "execution_count": 7,
   "metadata": {
    "collapsed": false
   },
   "outputs": [
    {
     "data": {
      "text/plain": [
       "'IIIIIII'"
      ]
     },
     "execution_count": 7,
     "metadata": {},
     "output_type": "execute_result"
    }
   ],
   "source": [
    "repeat_str(7, 'I')"
   ]
  },
  {
   "cell_type": "code",
   "execution_count": 8,
   "metadata": {
    "collapsed": true
   },
   "outputs": [],
   "source": [
    "def repeat_str(repeat, string): #As a for loop\n",
    "    solution = \"\"\n",
    "    for i in range(repeat):\n",
    "        solution += string\n",
    "    return solution"
   ]
  },
  {
   "cell_type": "code",
   "execution_count": 11,
   "metadata": {
    "collapsed": false
   },
   "outputs": [
    {
     "data": {
      "text/plain": [
       "'POOPOOPOOPOOPOOPOOPOOPOOPOOPOOPOOPOOPOOPOOPOOPOOPOOPOOPOOPOOPOOPOOPOOPOOPOOPOOPOOPOOPOOPOOPOOPOOPOOPOOPOOPOOPOOPOOPOOPOOPOOPOOPOOPOOPOOPOO'"
      ]
     },
     "execution_count": 11,
     "metadata": {},
     "output_type": "execute_result"
    }
   ],
   "source": [
    "repeat_str(46, 'POO')"
   ]
  },
  {
   "cell_type": "markdown",
   "metadata": {},
   "source": [
    "# Stripping out Whitespace"
   ]
  },
  {
   "cell_type": "code",
   "execution_count": 12,
   "metadata": {
    "collapsed": true
   },
   "outputs": [],
   "source": [
    "def no_space(x): # This function only removes the whitespace from the edges\n",
    "    return str.strip(x)"
   ]
  },
  {
   "cell_type": "code",
   "execution_count": 16,
   "metadata": {
    "collapsed": false
   },
   "outputs": [
    {
     "data": {
      "text/plain": [
       "'2 asd j'"
      ]
     },
     "execution_count": 16,
     "metadata": {},
     "output_type": "execute_result"
    }
   ],
   "source": [
    "no_space('  2 asd j ')"
   ]
  },
  {
   "cell_type": "code",
   "execution_count": 22,
   "metadata": {
    "collapsed": true
   },
   "outputs": [],
   "source": [
    "def no_space(x): # This function splits according to whitespace and returns a list\n",
    "    return str.split(x)"
   ]
  },
  {
   "cell_type": "code",
   "execution_count": 23,
   "metadata": {
    "collapsed": false
   },
   "outputs": [
    {
     "data": {
      "text/plain": [
       "['2', 'asd', 'j']"
      ]
     },
     "execution_count": 23,
     "metadata": {},
     "output_type": "execute_result"
    }
   ],
   "source": [
    "no_space('  2 asd   j ')"
   ]
  },
  {
   "cell_type": "code",
   "execution_count": 33,
   "metadata": {
    "collapsed": true
   },
   "outputs": [],
   "source": [
    "def no_space(x): # This one strips out all whitespace\n",
    "    return x.replace(\" \", \"\")"
   ]
  },
  {
   "cell_type": "code",
   "execution_count": 34,
   "metadata": {
    "collapsed": false
   },
   "outputs": [
    {
     "data": {
      "text/plain": [
       "'2asdj'"
      ]
     },
     "execution_count": 34,
     "metadata": {},
     "output_type": "execute_result"
    }
   ],
   "source": [
    "sentence = '  2 asd   j '\n",
    "no_space(sentence)"
   ]
  },
  {
   "cell_type": "code",
   "execution_count": null,
   "metadata": {
    "collapsed": true
   },
   "outputs": [],
   "source": [
    "no_space = lambda s: ''.join(filter(lambda ch: not ch == ' ', s)) #As an ugly lambda"
   ]
  },
  {
   "cell_type": "markdown",
   "metadata": {},
   "source": [
    "# Pole Vaulter (Tricky Mathsy Challenge)"
   ]
  },
  {
   "cell_type": "code",
   "execution_count": 14,
   "metadata": {
    "collapsed": false
   },
   "outputs": [
    {
     "data": {
      "text/plain": [
       "3.9354838709677433"
      ]
     },
     "execution_count": 14,
     "metadata": {},
     "output_type": "execute_result"
    }
   ],
   "source": [
    "(10.67-9.45)/(1.83-1.52)"
   ]
  },
  {
   "cell_type": "code",
   "execution_count": 24,
   "metadata": {
    "collapsed": true
   },
   "outputs": [],
   "source": [
    "def starting_mark(height):\n",
    "    return round(9.45 + (10.67 - 9.45) / (1.83 - 1.52) * (height - 1.52), 2)"
   ]
  },
  {
   "cell_type": "code",
   "execution_count": 26,
   "metadata": {
    "collapsed": false
   },
   "outputs": [
    {
     "data": {
      "text/plain": [
       "9.45"
      ]
     },
     "execution_count": 26,
     "metadata": {},
     "output_type": "execute_result"
    }
   ],
   "source": [
    "starting_mark(1.52) #See it works"
   ]
  },
  {
   "cell_type": "code",
   "execution_count": null,
   "metadata": {
    "collapsed": true
   },
   "outputs": [],
   "source": [
    "def starting_mark(height):\n",
    "    m=(10.67-9.45)/(1.83-1.52)\n",
    "    b=9.45-m*1.52\n",
    "    startmark = m*height+b\n",
    "    startmark = round(startmark,2)\n",
    "    return startmark"
   ]
  },
  {
   "cell_type": "markdown",
   "metadata": {},
   "source": [
    "# Finding Multiples of a Number"
   ]
  },
  {
   "cell_type": "code",
   "execution_count": null,
   "metadata": {
    "collapsed": true
   },
   "outputs": [],
   "source": [
    "def find_multiples(integer, limit): # This will not work at all for so many reasons!\n",
    "    int = limit / integer\n",
    "    list = list(int*int)\n",
    "    return list"
   ]
  },
  {
   "cell_type": "code",
   "execution_count": 32,
   "metadata": {
    "collapsed": true
   },
   "outputs": [],
   "source": [
    "def find_multiples(integer, limit):\n",
    "        result = []\n",
    "        for x in range(integer, limit+1, integer):\n",
    "            result.append(x)\n",
    "        return result"
   ]
  },
  {
   "cell_type": "code",
   "execution_count": 33,
   "metadata": {
    "collapsed": false
   },
   "outputs": [
    {
     "data": {
      "text/plain": [
       "[2, 4, 6, 8]"
      ]
     },
     "execution_count": 33,
     "metadata": {},
     "output_type": "execute_result"
    }
   ],
   "source": [
    "find_multiples(2, 8)"
   ]
  },
  {
   "cell_type": "code",
   "execution_count": null,
   "metadata": {
    "collapsed": true
   },
   "outputs": [],
   "source": [
    "def find_multiples(integer, limit): # Best solution\n",
    "    return list(range(integer, limit+1, integer))"
   ]
  },
  {
   "cell_type": "code",
   "execution_count": null,
   "metadata": {
    "collapsed": true
   },
   "outputs": [],
   "source": [
    "find_multiples = lambda a, b: list(range(a, b + 1, a)) #expressed as a lambda"
   ]
  },
  {
   "cell_type": "code",
   "execution_count": null,
   "metadata": {
    "collapsed": true
   },
   "outputs": [],
   "source": [
    "def find_multiples(integer, limit): #or as a while loop, not efficient but means you don't need to add +1\n",
    "    arr = []\n",
    "    count = integer\n",
    "    while count <= limit:\n",
    "        arr.append(count)\n",
    "        count += integer\n",
    "    return arr"
   ]
  },
  {
   "cell_type": "markdown",
   "metadata": {},
   "source": [
    "# Whose move is next?"
   ]
  },
  {
   "cell_type": "code",
   "execution_count": 46,
   "metadata": {
    "collapsed": false
   },
   "outputs": [],
   "source": [
    "def whoseMove(lastPlayer, win):\n",
    "    if lastPlayer == \"black\" and win == True:\n",
    "        return \"black\"\n",
    "    elif lastPlayer == \"black\" and win == False:\n",
    "        return \"white\"\n",
    "    elif lastPlayer == \"white\" and win == True:\n",
    "        return \"white\"\n",
    "    elif lastPlayer == \"white\" and win == False:\n",
    "        return \"black\""
   ]
  },
  {
   "cell_type": "code",
   "execution_count": 49,
   "metadata": {
    "collapsed": false
   },
   "outputs": [
    {
     "data": {
      "text/plain": [
       "'white'"
      ]
     },
     "execution_count": 49,
     "metadata": {},
     "output_type": "execute_result"
    }
   ],
   "source": [
    "whoseMove('black', False)"
   ]
  },
  {
   "cell_type": "code",
   "execution_count": 50,
   "metadata": {
    "collapsed": true
   },
   "outputs": [],
   "source": [
    "def whoseMove(lastPlayer, win): #Prettier way to do it\n",
    "    if lastPlayer == 'black':\n",
    "        if win == True:\n",
    "            return 'black'\n",
    "        else:\n",
    "            return 'white'\n",
    "    else:\n",
    "        if win == True:\n",
    "            return 'white'\n",
    "        else:\n",
    "            return 'black'"
   ]
  },
  {
   "cell_type": "code",
   "execution_count": 51,
   "metadata": {
    "collapsed": true
   },
   "outputs": [],
   "source": [
    "def whoseMove(lastPlayer, win): #Using a get statement\n",
    "    return lastPlayer if win else {'white':'black', 'black':'white'}.get(lastPlayer)"
   ]
  },
  {
   "cell_type": "code",
   "execution_count": 52,
   "metadata": {
    "collapsed": true
   },
   "outputs": [],
   "source": [
    "def whoseMove(lastPlayer, win): # split statements down if one is dominant (not in this case)\n",
    "    if win:\n",
    "         return lastPlayer\n",
    "    elif not win and lastPlayer == \"black\":\n",
    "         return \"white\"\n",
    "    else:\n",
    "         return \"black\""
   ]
  },
  {
   "cell_type": "code",
   "execution_count": 53,
   "metadata": {
    "collapsed": true
   },
   "outputs": [],
   "source": [
    "def whoseMove(lastPlayer, win): #As above except in one line (much smarter and readable)\n",
    "    return lastPlayer if win else 'white' if lastPlayer == 'black' else 'black'"
   ]
  },
  {
   "cell_type": "code",
   "execution_count": 54,
   "metadata": {
    "collapsed": true
   },
   "outputs": [],
   "source": [
    "def whoseMove(lastPlayer, win): # A clever but less readable way of doing it\n",
    "    players = ['white', 'black']\n",
    "    return lastPlayer if win else players[players.index(lastPlayer) - 1]"
   ]
  },
  {
   "cell_type": "markdown",
   "metadata": {},
   "source": [
    "# How to invert values in a list"
   ]
  },
  {
   "cell_type": "code",
   "execution_count": 62,
   "metadata": {
    "collapsed": true
   },
   "outputs": [],
   "source": [
    "def invert(lst): # bloomin simple when you know how!\n",
    "    return [-x for x in lst]"
   ]
  },
  {
   "cell_type": "code",
   "execution_count": 63,
   "metadata": {
    "collapsed": true
   },
   "outputs": [],
   "source": [
    "def invert(lst): # this is what is going on under the hood in the list comprehension\n",
    "    l = []\n",
    "    for i in lst:\n",
    "        l.append(i-i*2)\n",
    "    return l"
   ]
  },
  {
   "cell_type": "code",
   "execution_count": 64,
   "metadata": {
    "collapsed": false
   },
   "outputs": [
    {
     "data": {
      "text/plain": [
       "[-1, -4, -6]"
      ]
     },
     "execution_count": 64,
     "metadata": {},
     "output_type": "execute_result"
    }
   ],
   "source": [
    "invert([1,4,6])"
   ]
  },
  {
   "cell_type": "markdown",
   "metadata": {},
   "source": [
    "# Switching Round the Meerkat heads!"
   ]
  },
  {
   "cell_type": "code",
   "execution_count": 130,
   "metadata": {
    "collapsed": true
   },
   "outputs": [],
   "source": [
    "def fix_the_meerkat(arr):\n",
    "    arr.reverse()\n",
    "    return arr"
   ]
  },
  {
   "cell_type": "code",
   "execution_count": 131,
   "metadata": {
    "collapsed": false
   },
   "outputs": [],
   "source": [
    "lst = ['tail','body','head']"
   ]
  },
  {
   "cell_type": "code",
   "execution_count": 132,
   "metadata": {
    "collapsed": false
   },
   "outputs": [
    {
     "name": "stdout",
     "output_type": "stream",
     "text": [
      "['head', 'body', 'tail']\n"
     ]
    }
   ],
   "source": [
    "print(fix_the_meerkat(lst)) "
   ]
  },
  {
   "cell_type": "code",
   "execution_count": 135,
   "metadata": {
    "collapsed": false
   },
   "outputs": [],
   "source": [
    "def fix_the_meerkat(arr):\n",
    "    arr[::-1]\n",
    "    return arr"
   ]
  },
  {
   "cell_type": "code",
   "execution_count": 136,
   "metadata": {
    "collapsed": false
   },
   "outputs": [
    {
     "name": "stdout",
     "output_type": "stream",
     "text": [
      "['head', 'body', 'tail']\n"
     ]
    }
   ],
   "source": [
    "print(fix_the_meerkat(lst))"
   ]
  },
  {
   "cell_type": "code",
   "execution_count": 139,
   "metadata": {
    "collapsed": true
   },
   "outputs": [],
   "source": [
    "def fix_the_meerkat(arr): # Note this one doesn't work without a placeholder\n",
    "    arr.sort(reverse=True)\n",
    "    return arr"
   ]
  },
  {
   "cell_type": "code",
   "execution_count": 141,
   "metadata": {
    "collapsed": false
   },
   "outputs": [
    {
     "name": "stdout",
     "output_type": "stream",
     "text": [
      "['tail', 'head', 'body']\n"
     ]
    }
   ],
   "source": [
    "print(fix_the_meerkat(lst)) # See it hasn't worked"
   ]
  },
  {
   "cell_type": "markdown",
   "metadata": {},
   "source": [
    "# Squares all the numbers and sum's them up"
   ]
  },
  {
   "cell_type": "code",
   "execution_count": 148,
   "metadata": {
    "collapsed": true
   },
   "outputs": [],
   "source": [
    "def square_sum(numbers):\n",
    "    for x in numbers:\n",
    "        return x**2"
   ]
  },
  {
   "cell_type": "code",
   "execution_count": 151,
   "metadata": {
    "collapsed": false
   },
   "outputs": [
    {
     "name": "stdout",
     "output_type": "stream",
     "text": [
      "Type n:8\n",
      "204\n"
     ]
    }
   ],
   "source": [
    "n = int(input(\"Type n:\")) #enables the user to insert an input value\n",
    "total = 0\n",
    "for i in range(1,n+1):\n",
    "    total += i**2\n",
    "print(total)"
   ]
  },
  {
   "cell_type": "code",
   "execution_count": 149,
   "metadata": {
    "collapsed": false
   },
   "outputs": [
    {
     "data": {
      "text/plain": [
       "1"
      ]
     },
     "execution_count": 149,
     "metadata": {},
     "output_type": "execute_result"
    }
   ],
   "source": [
    "square_sum([1,2,2])"
   ]
  },
  {
   "cell_type": "code",
   "execution_count": 156,
   "metadata": {
    "collapsed": true
   },
   "outputs": [],
   "source": [
    "def square_sum(numbers):\n",
    "    return sum([x**2 for x in list(numbers)])"
   ]
  },
  {
   "cell_type": "code",
   "execution_count": 157,
   "metadata": {
    "collapsed": false
   },
   "outputs": [
    {
     "data": {
      "text/plain": [
       "9"
      ]
     },
     "execution_count": 157,
     "metadata": {},
     "output_type": "execute_result"
    }
   ],
   "source": [
    "square_sum([1,2,2])"
   ]
  },
  {
   "cell_type": "code",
   "execution_count": 158,
   "metadata": {
    "collapsed": false
   },
   "outputs": [],
   "source": [
    "def sum_of_squares(n):\n",
    "    return sum([i**2 for i in range(1, n+1)])\n",
    "\n",
    "def square_of_sum(n):\n",
    "    return sum(range(1, n+1)) ** 2"
   ]
  },
  {
   "cell_type": "code",
   "execution_count": 159,
   "metadata": {
    "collapsed": false
   },
   "outputs": [
    {
     "ename": "SyntaxError",
     "evalue": "invalid syntax (<ipython-input-159-c6fb05472be9>, line 1)",
     "output_type": "error",
     "traceback": [
      "\u001b[0;36m  File \u001b[0;32m\"<ipython-input-159-c6fb05472be9>\"\u001b[0;36m, line \u001b[0;32m1\u001b[0m\n\u001b[0;31m    print square_of_sum(100) - sum_of_squares(100)\u001b[0m\n\u001b[0m                      ^\u001b[0m\n\u001b[0;31mSyntaxError\u001b[0m\u001b[0;31m:\u001b[0m invalid syntax\n"
     ]
    }
   ],
   "source": [
    "print square_of_sum(100) - sum_of_squares(100)"
   ]
  },
  {
   "cell_type": "code",
   "execution_count": 160,
   "metadata": {
    "collapsed": true
   },
   "outputs": [],
   "source": [
    "def square_sum(numbers): #or can just be this\n",
    "    return sum(x ** 2 for x in numbers)"
   ]
  },
  {
   "cell_type": "code",
   "execution_count": null,
   "metadata": {
    "collapsed": true
   },
   "outputs": [],
   "source": []
  }
 ],
 "metadata": {
  "kernelspec": {
   "display_name": "Python 3",
   "language": "python",
   "name": "python3"
  },
  "language_info": {
   "codemirror_mode": {
    "name": "ipython",
    "version": 3
   },
   "file_extension": ".py",
   "mimetype": "text/x-python",
   "name": "python",
   "nbconvert_exporter": "python",
   "pygments_lexer": "ipython3",
   "version": "3.6.0"
  }
 },
 "nbformat": 4,
 "nbformat_minor": 2
}
