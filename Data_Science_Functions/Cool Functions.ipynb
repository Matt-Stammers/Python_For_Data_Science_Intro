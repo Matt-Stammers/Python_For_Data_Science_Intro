{
 "cells": [
  {
   "cell_type": "markdown",
   "metadata": {},
   "source": [
    "# Simple Mult Fuction"
   ]
  },
  {
   "cell_type": "code",
   "execution_count": null,
   "metadata": {
    "collapsed": true
   },
   "outputs": [],
   "source": [
    "def multiply(a, b):\n",
    "  return a * b"
   ]
  },
  {
   "cell_type": "markdown",
   "metadata": {},
   "source": [
    "# Extract a number from a string as an int"
   ]
  },
  {
   "cell_type": "code",
   "execution_count": null,
   "metadata": {
    "collapsed": true
   },
   "outputs": [],
   "source": [
    "def get_int(age): #If the number is in position 0 in the string then this will work (or any constant position)\n",
    "    return int(age[0])"
   ]
  },
  {
   "cell_type": "code",
   "execution_count": null,
   "metadata": {
    "collapsed": true
   },
   "outputs": [],
   "source": [
    "# This function however works much better as it will extract the number as an int from anywhere in the string (but only one!)\n",
    "import re\n",
    "\n",
    "def get_int(age_int):\n",
    "    return int(re.search(r\"\\d+\", age_int).group())"
   ]
  },
  {
   "cell_type": "code",
   "execution_count": null,
   "metadata": {
    "collapsed": true
   },
   "outputs": [],
   "source": [
    "def get_age(age): #This is a hacky way to do it (as above) but it does give you a nice message if the string is wrong. Really it should use a regex\n",
    "    if int(age[0]) <= 9:\n",
    "        return int(age[0])\n",
    "    else:\n",
    "        return \"wrong input!\""
   ]
  },
  {
   "cell_type": "markdown",
   "metadata": {},
   "source": [
    "# Simple Year Calculator"
   ]
  },
  {
   "cell_type": "code",
   "execution_count": null,
   "metadata": {
    "collapsed": true
   },
   "outputs": [],
   "source": [
    "def calculate_age(year_of_birth, current_year): # Good solution to the problem\n",
    "    diff = abs(current_year - year_of_birth)\n",
    "    plural = '' if diff == 1 else 's'\n",
    "    if year_of_birth < current_year:\n",
    "        return 'You are {} year{} old.'.format(diff, plural)\n",
    "    elif year_of_birth > current_year:\n",
    "        return 'You will be born in {} year{}.'.format(diff, plural)\n",
    "    return 'You were born this very year!'"
   ]
  },
  {
   "cell_type": "code",
   "execution_count": null,
   "metadata": {
    "collapsed": true
   },
   "outputs": [],
   "source": [
    "def calculate_age(birth, curr): # squashed solution\n",
    "    diff = abs(curr - birth)\n",
    "    age = \"%d year%s\" % (diff, \"s\" * bool(diff-1))\n",
    "    return \"You were born this very year!\" if not diff else \"You are %s old.\" % age if curr > birth else \"You will be born in %s.\" % age"
   ]
  },
  {
   "cell_type": "code",
   "execution_count": null,
   "metadata": {
    "collapsed": true
   },
   "outputs": [],
   "source": [
    "def calculate_age(year_of_birth, current_year): # this is the clearest way to do it\n",
    "    age = current_year - year_of_birth\n",
    "    if age == 0:\n",
    "        return \"You were born this very year!\"\n",
    "    elif age > 0:\n",
    "        return \"You are {} year{} old.\".format(age, 's' if age > 1 else '')\n",
    "    else:\n",
    "        return \"You will be born in {} year{}.\".format(abs(age), 's' if abs(age) > 1 else '')"
   ]
  },
  {
   "cell_type": "code",
   "execution_count": null,
   "metadata": {
    "collapsed": true
   },
   "outputs": [],
   "source": [
    "def calculate_age(year_of_birth, current_year): # a crappy cheaty way to to do it\n",
    "    #your code\n",
    "    if current_year>year_of_birth + 1:\n",
    "        return (\"You are %s years old.\" % (current_year - year_of_birth))\n",
    "    if current_year==year_of_birth + 1:\n",
    "        return (\"You are %s year old.\" % (current_year - year_of_birth))\n",
    "    if current_year + 1 <year_of_birth:\n",
    "        return (\"You will be born in %s years.\" % (year_of_birth - current_year))\n",
    "    if current_year + 1 ==year_of_birth:\n",
    "        return (\"You will be born in %s year.\" % (year_of_birth - current_year))\n",
    "    if current_year==year_of_birth:\n",
    "        return (\"You were born this very year!\")"
   ]
  },
  {
   "cell_type": "code",
   "execution_count": null,
   "metadata": {
    "collapsed": true
   },
   "outputs": [],
   "source": [
    "def calculate_age(b, c): # again not a great way to do it\n",
    "    year_str = \" years\"\n",
    "    if abs(b - c) == 1:\n",
    "        year_str = \" year\"\n",
    "    if(b > c):\n",
    "        return \"You will be born in \" + str(b - c) + year_str + \".\"\n",
    "    if(b == c):\n",
    "        return \"You were born this very year!\"\n",
    "    if(c > b):\n",
    "        return \"You are \" + str(c - b) + year_str + \" old.\""
   ]
  },
  {
   "cell_type": "markdown",
   "metadata": {},
   "source": [
    "# Alphabet Position Code"
   ]
  },
  {
   "cell_type": "code",
   "execution_count": null,
   "metadata": {
    "collapsed": true
   },
   "outputs": [],
   "source": [
    "def alphabet_position(text): #(super quick way to get the position of a string in a list)\n",
    "    return ' '.join(str(ord(c) - 96) for c in text.lower() if c.isalpha())"
   ]
  },
  {
   "cell_type": "code",
   "execution_count": null,
   "metadata": {
    "collapsed": true
   },
   "outputs": [],
   "source": [
    "def alphabet_position(text): #my function\n",
    "    output = '' #the value to return is a string value\n",
    "    for ch in text.lower(): #for all the lowercase characters\n",
    "        if ch.isalpha(): #is it alphanumeric?\n",
    "            output = output + str(ord(ch) - 96) + ' ' #find its value, this I had to look up\n",
    "    output = output.strip() #strip the whitespace\n",
    "    return output #return the output value"
   ]
  },
  {
   "cell_type": "markdown",
   "metadata": {},
   "source": [
    "# To Find the Smallest Int"
   ]
  },
  {
   "cell_type": "code",
   "execution_count": null,
   "metadata": {
    "collapsed": true
   },
   "outputs": [],
   "source": [
    "def findSmallestInt(arr): #finds the smallest integer\n",
    "    return min(arr)"
   ]
  },
  {
   "cell_type": "code",
   "execution_count": null,
   "metadata": {
    "collapsed": true
   },
   "outputs": [],
   "source": [
    "def findSmallestInt(arr): # another way to do it\n",
    "    smallest = []\n",
    "    for i in range(0,len(arr)):\n",
    "        if (arr[i] < smallest):\n",
    "            smallest = arr[i]\n",
    "    return smallest"
   ]
  },
  {
   "cell_type": "code",
   "execution_count": null,
   "metadata": {
    "collapsed": true
   },
   "outputs": [],
   "source": [
    "import numpy as np \n",
    "def findSmallestInt(arr): # my version\n",
    "    #Finds the smallest integer in an array\n",
    "    arrays = np.array(arr)\n",
    "    array_min = arrays.min()\n",
    "    return(array_min)"
   ]
  },
  {
   "cell_type": "markdown",
   "metadata": {},
   "source": [
    "# To Uppercase all Strings in an sentence"
   ]
  },
  {
   "cell_type": "code",
   "execution_count": null,
   "metadata": {
    "collapsed": true
   },
   "outputs": [],
   "source": [
    "def toJadenCase(string):\n",
    "    # Jadenises strings\n",
    "    return \" \".join(w.capitalize() for w in string.split())"
   ]
  },
  {
   "cell_type": "markdown",
   "metadata": {},
   "source": [
    "not capitilize as this does it to anything with a comma etc"
   ]
  },
  {
   "cell_type": "markdown",
   "metadata": {},
   "source": [
    "# To find the length of the shortest word in a string"
   ]
  },
  {
   "cell_type": "code",
   "execution_count": null,
   "metadata": {
    "collapsed": true
   },
   "outputs": [],
   "source": [
    "def find_short(s): # 3 different pro ways to do it. This one is probably the best way\n",
    "    return min(len(x) for x in s.split())"
   ]
  },
  {
   "cell_type": "code",
   "execution_count": null,
   "metadata": {
    "collapsed": true
   },
   "outputs": [],
   "source": [
    "def find_short(s):\n",
    "    return len(min(s.split(' '), key=len))"
   ]
  },
  {
   "cell_type": "code",
   "execution_count": null,
   "metadata": {
    "collapsed": true
   },
   "outputs": [],
   "source": [
    "def find_short(s):\n",
    "    return min(map(len, s.split(' ')))"
   ]
  },
  {
   "cell_type": "markdown",
   "metadata": {},
   "source": [
    "# How many steps to break up the chocolate?"
   ]
  },
  {
   "cell_type": "code",
   "execution_count": null,
   "metadata": {
    "collapsed": true
   },
   "outputs": [],
   "source": [
    "# this is a way to do it by object\n",
    "public class Chocolate{\n",
    "  public static int breakChocolate(int n, int m) {\n",
    "    if((n>1 && m>1) || (n>1 && m==1) || (n==1 && m>1))\n",
    "      return m*n-1;\n",
    "    else    \n",
    "      return 0;\n",
    "  }\n",
    "}"
   ]
  },
  {
   "cell_type": "code",
   "execution_count": 6,
   "metadata": {
    "collapsed": false
   },
   "outputs": [
    {
     "ename": "SyntaxError",
     "evalue": "invalid syntax (<ipython-input-6-fb70d22f8f48>, line 2)",
     "output_type": "error",
     "traceback": [
      "\u001b[0;36m  File \u001b[0;32m\"<ipython-input-6-fb70d22f8f48>\"\u001b[0;36m, line \u001b[0;32m2\u001b[0m\n\u001b[0;31m    return(n == 0 || m == 0) ? 0 : ((n * m) - 1)\u001b[0m\n\u001b[0m                   ^\u001b[0m\n\u001b[0;31mSyntaxError\u001b[0m\u001b[0;31m:\u001b[0m invalid syntax\n"
     ]
    }
   ],
   "source": [
    "def breakChocolate(n, m): #function\n",
    "    try:\n",
    "        int(n)\n",
    "        int(m)\n",
    "    except ValueError:\n",
    "        return 0\n",
    "    \n",
    "    if (n > 0) and (m > 0):\n",
    "        return (n*m)-1\n",
    "    else:\n",
    "        return 0"
   ]
  },
  {
   "cell_type": "code",
   "execution_count": 8,
   "metadata": {
    "collapsed": false
   },
   "outputs": [],
   "source": [
    "def breakChocolate(n, m): #quickest and most elegant solution\n",
    "    return max(n*m-1,0)"
   ]
  },
  {
   "cell_type": "markdown",
   "metadata": {},
   "source": [
    "# How is it a triangle of size x?"
   ]
  },
  {
   "cell_type": "code",
   "execution_count": null,
   "metadata": {
    "collapsed": true
   },
   "outputs": [],
   "source": [
    "# this is the optimal solution \n",
    "def is_triangle(a, b, c):\n",
    "    return (a<b+c) and (b<a+c) and (c<a+b)"
   ]
  },
  {
   "cell_type": "code",
   "execution_count": null,
   "metadata": {
    "collapsed": true
   },
   "outputs": [],
   "source": [
    "def is_triangle(a,b,c): # This is my triangle tester\n",
    "    biggest = max(a,b,c);\n",
    "    sum = a + b + c;\n",
    "    return sum - biggest > biggest"
   ]
  },
  {
   "cell_type": "code",
   "execution_count": null,
   "metadata": {
    "collapsed": true
   },
   "outputs": [],
   "source": [
    "def is_triangle(a, b, c): # close second\n",
    "    a, b, c = sorted([a, b, c])\n",
    "    return a + b > c"
   ]
  },
  {
   "cell_type": "markdown",
   "metadata": {},
   "source": [
    "# unique in order function - returns a list of items with any elements with the same value next to each other but preserving the original order of elements"
   ]
  },
  {
   "cell_type": "code",
   "execution_count": null,
   "metadata": {
    "collapsed": true
   },
   "outputs": [],
   "source": [
    "def unique_in_order(iterable):\n",
    "    if iterable == None:\n",
    "        return None\n",
    "    if iterable == []:\n",
    "        return []\n",
    "    result = []\n",
    "    i = 0\n",
    "    while i < len(iterable)-1:\n",
    "        if iterable[i] == iterable[i+1]:\n",
    "            i += 1\n",
    "            continue\n",
    "        result.append(iterable[i])\n",
    "        i += 1\n",
    "    result.append(iterable[i])\n",
    "    return result"
   ]
  },
  {
   "cell_type": "markdown",
   "metadata": {},
   "source": [
    "# You are given an array strarr of strings and an integer k. Your task is to return the first longest string consisting of k consecutive strings taken in the array."
   ]
  },
  {
   "cell_type": "code",
   "execution_count": null,
   "metadata": {
    "collapsed": true
   },
   "outputs": [],
   "source": [
    "def longest_consec(strarr, k):\n",
    "    ans = ''\n",
    "    k -= 1\n",
    "    l = 0\n",
    "    i = 0\n",
    "    while i < len(strarr) - k:\n",
    "        temp_arr = list()\n",
    "        j = 0\n",
    "        while j <= k:\n",
    "            temp_arr.append(strarr[i + j])\n",
    "            j += 1\n",
    "\n",
    "        temp = ''.join(temp_arr)\n",
    "        if len(temp) > l:\n",
    "            l = len(temp)\n",
    "            ans = temp\n",
    "        i += 1\n",
    "    return ''.join(ans)"
   ]
  },
  {
   "cell_type": "code",
   "execution_count": null,
   "metadata": {
    "collapsed": true
   },
   "outputs": [],
   "source": [
    "def longest_consec(strarr, k): # best solution\n",
    "    result = \"\"\n",
    "    \n",
    "    if k > 0 and len(strarr) >= k:\n",
    "        for index in range(len(strarr) - k + 1):\n",
    "            s = ''.join(strarr[index:index+k])\n",
    "            if len(s) > len(result):\n",
    "                result = s\n",
    "            \n",
    "    return result"
   ]
  },
  {
   "cell_type": "code",
   "execution_count": null,
   "metadata": {
    "collapsed": true
   },
   "outputs": [],
   "source": [
    "def longest_consec(s, k): # cleverest soution\n",
    "    return max([\"\".join(s[i:i+k]) for i in range(len(s)-k+1)], key=len) if s and 0 < k <= len(s) else \"\""
   ]
  },
  {
   "cell_type": "markdown",
   "metadata": {},
   "source": [
    "# Find the int that appears an odd number of times in a list"
   ]
  },
  {
   "cell_type": "code",
   "execution_count": null,
   "metadata": {
    "collapsed": true
   },
   "outputs": [],
   "source": [
    "def find_it(seq): #list expression\n",
    "    return [x for x in seq if seq.count(x)%2][0]"
   ]
  },
  {
   "cell_type": "code",
   "execution_count": null,
   "metadata": {
    "collapsed": true
   },
   "outputs": [],
   "source": [
    "def find_it(seq): #normal function (same thing as above but less memory efficient)\n",
    "    for i in seq:\n",
    "        if seq.count(i)%2!=0:\n",
    "            return i"
   ]
  },
  {
   "cell_type": "code",
   "execution_count": null,
   "metadata": {
    "collapsed": true
   },
   "outputs": [],
   "source": [
    "from collections import Counter #counter option\n",
    "def find_it(l):\n",
    "    return [k for k, v in Counter(l).items() if v % 2 != 0][0]"
   ]
  },
  {
   "cell_type": "code",
   "execution_count": null,
   "metadata": {
    "collapsed": true
   },
   "outputs": [],
   "source": [
    "import operator # clever solution\n",
    "\n",
    "def find_it(xs):\n",
    "    return reduce(operator.xor, xs)"
   ]
  },
  {
   "cell_type": "code",
   "execution_count": null,
   "metadata": {
    "collapsed": true
   },
   "outputs": [],
   "source": []
  }
 ],
 "metadata": {
  "kernelspec": {
   "display_name": "Python 3",
   "language": "python",
   "name": "python3"
  },
  "language_info": {
   "codemirror_mode": {
    "name": "ipython",
    "version": 3
   },
   "file_extension": ".py",
   "mimetype": "text/x-python",
   "name": "python",
   "nbconvert_exporter": "python",
   "pygments_lexer": "ipython3",
   "version": "3.6.0"
  }
 },
 "nbformat": 4,
 "nbformat_minor": 2
}
