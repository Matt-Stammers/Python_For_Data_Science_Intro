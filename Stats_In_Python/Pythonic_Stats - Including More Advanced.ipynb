{
 "cells": [
  {
   "cell_type": "markdown",
   "metadata": {},
   "source": [
    "# Plotting Histograms"
   ]
  },
  {
   "cell_type": "code",
   "execution_count": null,
   "metadata": {
    "collapsed": false
   },
   "outputs": [],
   "source": [
    "# Import plotting modules\n",
    "import matplotlib.pyplot as plt\n",
    "import seaborn as sns\n",
    "\n",
    "# Set default Seaborn style\n",
    "sns.set()\n",
    "\n",
    "# Plot histogram of say patient lengths -\n",
    "_ = plt.hist(patient_lengths)\n",
    "\n",
    "# Show histogram\n",
    "plt.show()"
   ]
  },
  {
   "cell_type": "markdown",
   "metadata": {},
   "source": [
    "# Axis Labelling"
   ]
  },
  {
   "cell_type": "code",
   "execution_count": null,
   "metadata": {
    "collapsed": true
   },
   "outputs": [],
   "source": [
    "# Plot histogram of patient_lengths\n",
    "_ = plt.hist(patient_lengths)\n",
    "\n",
    "# Label axes\n",
    "plt.xlabel('patient length (cm)')\n",
    "plt.ylabel('count')\n",
    "\n",
    "# Show histogram\n",
    "plt.show()"
   ]
  },
  {
   "cell_type": "markdown",
   "metadata": {},
   "source": [
    "# Adjusting the Bins"
   ]
  },
  {
   "cell_type": "code",
   "execution_count": null,
   "metadata": {
    "collapsed": true
   },
   "outputs": [],
   "source": [
    "# Import numpy\n",
    "import numpy as np\n",
    "\n",
    "# Compute number of data points: n_data\n",
    "n_data = len(patient_lengths)\n",
    "\n",
    "# Number of bins is the square root of number of data points: n_bins\n",
    "n_bins = np.sqrt(n_data)\n",
    "\n",
    "# Convert number of bins to integer: n_bins\n",
    "n_bins = int(n_bins)\n",
    "\n",
    "# Plot the histogram\n",
    "_ = plt.hist(patient_lengths, bins = n_bins)\n",
    "\n",
    "# Label axes\n",
    "_ = plt.xlabel('patient length (cm)')\n",
    "_ = plt.ylabel('count')\n",
    "\n",
    "# Show histogram\n",
    "plt.show()"
   ]
  },
  {
   "cell_type": "markdown",
   "metadata": {},
   "source": [
    "# Bee Swarm Plot"
   ]
  },
  {
   "cell_type": "code",
   "execution_count": null,
   "metadata": {
    "collapsed": true
   },
   "outputs": [],
   "source": [
    "# Create bee swarm plot with Seaborn's default settings\n",
    "_ = sns.swarmplot(x='diagnosis', y='patient length (cm)', data=df)\n",
    "\n",
    "# Label the axes\n",
    "_ = plt.xlabel('diagnosis')\n",
    "_ = plt.ylabel('patient length')\n",
    "\n",
    "# Show the plot\n",
    "plt.show()"
   ]
  },
  {
   "cell_type": "markdown",
   "metadata": {},
   "source": [
    "# Computing the ECDF"
   ]
  },
  {
   "cell_type": "code",
   "execution_count": null,
   "metadata": {
    "collapsed": true
   },
   "outputs": [],
   "source": [
    "def ecdf(data):\n",
    "    \"\"\"Compute ECDF for a one-dimensional array of measurements.\"\"\"\n",
    "    # Number of data points: n\n",
    "    n = len(data)\n",
    "    # x-data for the ECDF: x\n",
    "    x = np.sort(data)\n",
    "    # y-data for the ECDF: y\n",
    "    y = np.arange(1, n+1) / n\n",
    "    return x, y"
   ]
  },
  {
   "cell_type": "markdown",
   "metadata": {},
   "source": [
    "# Plotting the ECDF"
   ]
  },
  {
   "cell_type": "code",
   "execution_count": null,
   "metadata": {
    "collapsed": true
   },
   "outputs": [],
   "source": [
    "# Compute ECDF for patient_data: x_vers, y_vers\n",
    "x_vers, y_vers = ecdf(patient_lengths)\n",
    "\n",
    "# Generate plot\n",
    "plt.plot(x_vers, y_vers, marker = '.', linestyle = 'none')\n",
    "\n",
    "# Make the margins nice\n",
    "plt.margins(0.02)\n",
    "\n",
    "# Label the axes\n",
    "_ = plt.ylabel('ECDF')\n",
    "_ = plt.xlabel('Patient Length')\n",
    "\n",
    "# Display the plot\n",
    "plt.show()"
   ]
  },
  {
   "cell_type": "markdown",
   "metadata": {},
   "source": [
    "# Plotting for Multiple Variables"
   ]
  },
  {
   "cell_type": "code",
   "execution_count": null,
   "metadata": {
    "collapsed": true
   },
   "outputs": [],
   "source": [
    "# Compute ECDFs\n",
    "x_pneum,y_pneum = ecdf(pneumonia_patient_length)\n",
    "x_MI,y_MI = ecdf(MI_patient_length)\n",
    "x_GIB,y_GIB = ecdf(GIBleed_patient_length)\n",
    "\n",
    "# Plot all ECDFs on the same plot\n",
    "_ = plt.plot(x_set,y_set, marker = '.', linestyle = 'none' )\n",
    "_ = plt.plot(x_vers,y_vers, marker = '.', linestyle = 'none' )\n",
    "_ = plt.plot(x_virg,y_virg, marker = '.', linestyle = 'none' )\n",
    "\n",
    "# Make nice margins\n",
    "plt.margins(0.02)\n",
    "\n",
    "# Annotate the plot\n",
    "plt.legend(('pneumonia', 'MI', 'GIBleed'), loc='lower right')\n",
    "_ = plt.xlabel('patient length (cm)')\n",
    "_ = plt.ylabel('ECDF')\n",
    "\n",
    "# Display the plot\n",
    "plt.show()"
   ]
  },
  {
   "cell_type": "markdown",
   "metadata": {},
   "source": [
    "# Mean"
   ]
  },
  {
   "cell_type": "code",
   "execution_count": null,
   "metadata": {
    "collapsed": true
   },
   "outputs": [],
   "source": [
    "# Compute the mean: mean_length_pts\n",
    "mean_length_pts = np.mean(patient_lengths)\n",
    "\n",
    "# Print the result with some nice formatting\n",
    "print('All pts:', mean_length_pts, 'cm')"
   ]
  },
  {
   "cell_type": "markdown",
   "metadata": {},
   "source": [
    "# Percentiles"
   ]
  },
  {
   "cell_type": "code",
   "execution_count": null,
   "metadata": {
    "collapsed": true
   },
   "outputs": [],
   "source": [
    "# Specify array of percentiles: percentiles\n",
    "percentiles = np.array([2.5,25,50,75,97.5])\n",
    "\n",
    "# Compute percentiles: ptiles_pts\n",
    "ptiles_pts = np.percentile(patient_lengths, percentiles)\n",
    "\n",
    "# Print the result\n",
    "print(ptiles_pts)"
   ]
  },
  {
   "cell_type": "markdown",
   "metadata": {},
   "source": [
    "# Percentiles and ECDF"
   ]
  },
  {
   "cell_type": "code",
   "execution_count": null,
   "metadata": {
    "collapsed": true
   },
   "outputs": [],
   "source": [
    "# Plot the ECDF\n",
    "_ = plt.plot(x_pneum, y_pneum, '.')\n",
    "plt.margins(0.02)\n",
    "_ = plt.xlabel('pneumonia patients length (cm)')\n",
    "_ = plt.ylabel('ECDF')\n",
    "\n",
    "# Overlay percentiles as red diamonds.\n",
    "_ = plt.plot(ptiles_pts, percentiles/100, marker='D', color='red', linestyle='none')\n",
    "\n",
    "# Show the plot\n",
    "plt.show()"
   ]
  },
  {
   "cell_type": "markdown",
   "metadata": {},
   "source": [
    "# Boxplot"
   ]
  },
  {
   "cell_type": "code",
   "execution_count": null,
   "metadata": {
    "collapsed": true
   },
   "outputs": [],
   "source": [
    "# Create box plot with Seaborn's default settings\n",
    "_ = sns.boxplot(x='diagnosis', y='patient length (cm)', data=df)\n",
    "\n",
    "# Label the axes\n",
    "_ = plt.xlabel('diagnosis')\n",
    "_ = plt.ylabel('patient length(cm)')\n",
    "\n",
    "# Show the plot\n",
    "plt.show()"
   ]
  },
  {
   "cell_type": "markdown",
   "metadata": {},
   "source": [
    "# Variance"
   ]
  },
  {
   "cell_type": "code",
   "execution_count": null,
   "metadata": {
    "collapsed": true
   },
   "outputs": [],
   "source": [
    "# Array of differences to mean: differences\n",
    "differences = patient_lengths - np.mean(patient_lengths)\n",
    "\n",
    "# Square the differences: diff_sq\n",
    "diff_sq = differences**2\n",
    "\n",
    "# Compute the mean square difference: variance_explicit\n",
    "variance_explicit = np.mean(diff_sq)\n",
    "\n",
    "# Compute the variance using NumPy: variance_np\n",
    "variance_np = np.var(patient_lengths)\n",
    "\n",
    "# Print the results\n",
    "print(variance_explicit, variance_np)\n",
    "\n",
    "# They will be the same!"
   ]
  },
  {
   "cell_type": "markdown",
   "metadata": {},
   "source": [
    "# Standard Deviation"
   ]
  },
  {
   "cell_type": "code",
   "execution_count": null,
   "metadata": {
    "collapsed": true
   },
   "outputs": [],
   "source": [
    "import math\n",
    "\n",
    "# Compute the variance: variance\n",
    "variance = np.var(patient_lengths)\n",
    "\n",
    "# Print the square root of the variance\n",
    "print(math.sqrt(variance))\n",
    "\n",
    "# Print the standard deviation\n",
    "print(np.std(patient_lengths))\n",
    "\n",
    "# OR\n",
    "\n",
    "# Compute the variance: variance\n",
    "variance = np.var(patient_lengths)\n",
    "\n",
    "# Print the square root of the variance\n",
    "print(np.sqrt(variance))\n",
    "\n",
    "# Print the standard deviation\n",
    "print(np.std(patient_lengths))\n",
    "\n",
    "# Answers will all be the same! Isn't that fantastic ;P"
   ]
  },
  {
   "cell_type": "markdown",
   "metadata": {},
   "source": [
    "# Scatter Plot"
   ]
  },
  {
   "cell_type": "code",
   "execution_count": null,
   "metadata": {
    "collapsed": true
   },
   "outputs": [],
   "source": [
    "# Make a scatter plot\n",
    "_ = plt.plot(pneumonia_patient_length, pneumonia_patient_width, marker = '.', linestyle = 'none')\n",
    "\n",
    "# Set margins\n",
    "plt.margins(0.02)\n",
    "\n",
    "# Label the axes\n",
    "_ = plt.xlabel('length')\n",
    "_ = plt.ylabel('width')\n",
    "\n",
    "# Show the result\n",
    "plt.show()"
   ]
  },
  {
   "cell_type": "markdown",
   "metadata": {},
   "source": [
    "# Covariance Matrices"
   ]
  },
  {
   "cell_type": "code",
   "execution_count": null,
   "metadata": {
    "collapsed": true
   },
   "outputs": [],
   "source": [
    "# Compute the covariance matrix: covariance_matrix\n",
    "covariance_matrix = np.cov(patient_lengths, patient_widths)\n",
    "\n",
    "# Print covariance matrix\n",
    "print(covariance_matrix)\n",
    "\n",
    "# Extract covariance of length and width of patients: patient_cov\n",
    "patient_cov = covariance_matrix[0,1]\n",
    "\n",
    "# Print the length/width covariance\n",
    "print(patient_cov)\n"
   ]
  },
  {
   "cell_type": "markdown",
   "metadata": {},
   "source": [
    "# Pearson Correlation coefficients"
   ]
  },
  {
   "cell_type": "code",
   "execution_count": null,
   "metadata": {
    "collapsed": true
   },
   "outputs": [],
   "source": [
    "def pearson_r(x, y):\n",
    "    \"\"\"Compute Pearson correlation coefficient between two arrays.\"\"\"\n",
    "    # Compute correlation matrix: corr_mat\n",
    "    corr_mat = np.corrcoef(x,y)\n",
    "\n",
    "    # Return entry [0,1]\n",
    "    return corr_mat[0,1]\n",
    "\n",
    "# Compute Pearson correlation coefficient for pneumonia_patients: pneumo\n",
    "pneumo = pearson_r(pneumonia_patient_length, pneumonia_patient_width)\n",
    "\n",
    "# Print the result\n",
    "print(pneumo)\n"
   ]
  },
  {
   "cell_type": "markdown",
   "metadata": {},
   "source": [
    "# Testing, Testing... Generating Random Numbers"
   ]
  },
  {
   "cell_type": "code",
   "execution_count": null,
   "metadata": {
    "collapsed": true
   },
   "outputs": [],
   "source": [
    "# Seed the random number generator\n",
    "np.random.seed(42)\n",
    "\n",
    "# Initialize random numbers: random_numbers\n",
    "random_numbers = np.empty(100000)\n",
    "\n",
    "# Generate random numbers by looping over range(100000)\n",
    "for i in range(100000):\n",
    "    random_numbers[i] = np.random.random()\n",
    "\n",
    "# Plot a histogram\n",
    "_ = plt.hist(random_numbers)\n",
    "\n",
    "# Show the plot\n",
    "plt.show()\n",
    "\n",
    "# Or more efficiently you could use np.random.random(size = 100000) but it's clearer what is happening this way."
   ]
  },
  {
   "cell_type": "markdown",
   "metadata": {},
   "source": [
    "# Bernoulli Trial"
   ]
  },
  {
   "cell_type": "code",
   "execution_count": null,
   "metadata": {
    "collapsed": true
   },
   "outputs": [],
   "source": [
    "def perform_bernoulli_trial(n, p):\n",
    "    \"\"\"Perform n Bernoulli trials with success probability p\n",
    "    and return number of successes.\"\"\"\n",
    "    # Initialize number of successes: n_success\n",
    "    n_success = 0\n",
    "\n",
    "\n",
    "    # Perform trials\n",
    "    for i in range(n):\n",
    "        # Choose random number between zero and one: random_number\n",
    "        random_number = np.random.random()\n",
    "\n",
    "        # If less than p, it's a success so add one to n_success\n",
    "        if random_number < p:\n",
    "            n_success += 1\n",
    "\n",
    "    return n_success\n",
    "\n",
    "# a failure is 1-p, thus is a positive value."
   ]
  },
  {
   "cell_type": "markdown",
   "metadata": {},
   "source": [
    "# Probabilistic Logic"
   ]
  },
  {
   "cell_type": "code",
   "execution_count": null,
   "metadata": {
    "collapsed": true
   },
   "outputs": [],
   "source": [
    "\"\"\"\n",
    "Lets say you treated 100 patients and the probability of death is 0.05. In order to test this probabilistically we can use\n",
    "The Bernoulli Trail as a simulation to prove that this the result is actually true\n",
    "\"\"\"\n",
    "\n",
    "# Seed random number generator\n",
    "np.random.seed(42)\n",
    "\n",
    "# Initialize the number of deaths: n_deaths\n",
    "n_deaths = np.empty(1000)\n",
    "\n",
    "# Compute the number of deaths\n",
    "for i in range(1000):\n",
    "    n_deaths[i] = perform_bernoulli_trial(100,0.05)\n",
    "\n",
    "    # this is taking in the number of patients in the test and the probability of death\n",
    "\n",
    "# Plotting the histogram with default number of bins; axis are labelled\n",
    "_ = plt.hist(n_deaths, normed = True)\n",
    "_ = plt.xlabel('number of dead out of 100 patients')\n",
    "_ = plt.ylabel('probability')\n",
    "\n",
    "# Show the plot\n",
    "plt.show()\n",
    "\n",
    "# the result is a histogram showing a spread of variation in the actual number of defaults like you would have in real life. "
   ]
  },
  {
   "cell_type": "markdown",
   "metadata": {},
   "source": [
    "# Statistical Inference - when ECDF meets probability ;)"
   ]
  },
  {
   "cell_type": "code",
   "execution_count": null,
   "metadata": {
    "collapsed": true
   },
   "outputs": [],
   "source": [
    "# Compute ECDF: x, y\n",
    "x, y = ecdf(n_deaths)\n",
    "\n",
    "# Plot the CDF with labeled axes - (CDF stands for cumulative /distribution/... deaths in this case ;o!)\n",
    "_ = plt.plot(x, y, marker='.', linestyle='none')\n",
    "_ = plt.xlabel('number of deaths out of 100')v\n",
    "_ = plt.ylabel('CDF')\n",
    "\n",
    "# Show the plot\n",
    "plt.show()\n",
    "\n",
    "# Compute the number of 100-loan simulations with 10 or more defaults: n_lose_money\n",
    "n_lose_patient = np.sum(n_deaths >= 10)\n",
    "\n",
    "# Compute and print probability of losing money\n",
    "print('Probability of losing patient =', n_lose_patient / len(n_deaths))"
   ]
  },
  {
   "cell_type": "markdown",
   "metadata": {},
   "source": [
    "# Discrete Uniform Probability Mass Function - ie. 'Rolling a Dice'"
   ]
  },
  {
   "cell_type": "markdown",
   "metadata": {},
   "source": [
    "A probability is just a simple mathematical description of outcomes. So in the binomial distribution the number r of successes in n Bernoulli trials with a probability of p success, is binomially distributed"
   ]
  },
  {
   "cell_type": "markdown",
   "metadata": {},
   "source": [
    "# Sampling From a Binomial Distribution"
   ]
  },
  {
   "cell_type": "code",
   "execution_count": null,
   "metadata": {
    "collapsed": true
   },
   "outputs": [],
   "source": [
    "# Take 10,000 samples out of the binomial distribution: n_defaults\n",
    "n_defaults = np.random.binomial(100,0.05, size = 10000) # This creates an n=100, probability = 0.05 test run 10,000 times\n",
    "\n",
    "# Compute CDF: x, y\n",
    "x,y = ecdf(n_defaults)\n",
    "\n",
    "# Plot the CDF with axis labels\n",
    "plt.plot(x,y,marker ='.', linestyle = 'none')\n",
    "plt.xlabel('number of deaths in 100 patient encounters')\n",
    "plt.ylabel('CDF')\n",
    "\n",
    "# Show the plot\n",
    "plt.show()\n",
    "\n",
    "# This is a much quicker way to iterate than the methods above"
   ]
  },
  {
   "cell_type": "markdown",
   "metadata": {},
   "source": [
    "# Plotting the Binomial PMF (prob mass function)"
   ]
  },
  {
   "cell_type": "code",
   "execution_count": null,
   "metadata": {
    "collapsed": true
   },
   "outputs": [],
   "source": [
    "# Compute bin edges: bins\n",
    "bins = np.arange(0, max(n_deaths) + 1.5) - 0.5\n",
    "\n",
    "# Generate histogram\n",
    "_ = plt.hist(n_defaults, normed=True, bins=bins)\n",
    "\n",
    "# Set margins\n",
    "plt.margins(0.02)\n",
    "\n",
    "# Label axes\n",
    "_ = plt.xlabel('number of deaths out of 100 patient encounters')\n",
    "_ = plt.ylabel('PMF')\n",
    "\n",
    "# Show the plot\n",
    "plt.show()"
   ]
  },
  {
   "cell_type": "markdown",
   "metadata": {},
   "source": [
    "# Poisson Process (Buses in Poissonville, Births, Meteors, Aviation Disasters, Website Hits - all independent processes)"
   ]
  },
  {
   "cell_type": "code",
   "execution_count": null,
   "metadata": {
    "collapsed": true
   },
   "outputs": [],
   "source": [
    "# Draw 10,000 samples out of Poisson distribution: samples_poisson\n",
    "samples_poisson = np.random.poisson(10, size = 10000)\n",
    "\n",
    "# Print the mean and standard deviation\n",
    "print('Poisson:     ', np.mean(samples_poisson),\n",
    "                       np.std(samples_poisson))\n",
    "\n",
    "# Specify values of n and p to consider for Binomial: n, p\n",
    "n = [20,100,1000]\n",
    "p = [0.5,0.1,0.01]\n",
    "\n",
    "# Draw 10,000 samples for each n,p pair: samples_binomial\n",
    "for i in range(3):\n",
    "    samples_binomial = np.random.binomial(n[i], p[i], size=10000)\n",
    "\n",
    "    # Print results\n",
    "    print('n =', n[i], 'Binom:', np.mean(samples_binomial),\n",
    "                                 np.std(samples_binomial))"
   ]
  },
  {
   "cell_type": "code",
   "execution_count": null,
   "metadata": {
    "collapsed": true
   },
   "outputs": [],
   "source": [
    "# Draw 10,000 samples out of Poisson distribution: n_nodisease\n",
    "n_nodisease = np.random.poisson(251/115, size=10000)\n",
    "\n",
    "# Compute number of samples that are seven or greater: n_large\n",
    "n_large = np.sum(n_nohitters >= 7)\n",
    "\n",
    "# Compute probability of getting seven or more: p_large\n",
    "p_large = n_large / 10000\n",
    "\n",
    "# Print the result\n",
    "print('Probability of seven or more no-disease:', p_large)"
   ]
  }
 ],
 "metadata": {
  "kernelspec": {
   "display_name": "Python 3",
   "language": "python",
   "name": "python3"
  },
  "language_info": {
   "codemirror_mode": {
    "name": "ipython",
    "version": 3
   },
   "file_extension": ".py",
   "mimetype": "text/x-python",
   "name": "python",
   "nbconvert_exporter": "python",
   "pygments_lexer": "ipython3",
   "version": "3.6.0"
  }
 },
 "nbformat": 4,
 "nbformat_minor": 2
}
